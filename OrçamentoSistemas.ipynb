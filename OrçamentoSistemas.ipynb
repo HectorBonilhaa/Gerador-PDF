{
 "cells": [
  {
   "cell_type": "markdown",
   "id": "413d6658",
   "metadata": {},
   "source": [
    "# Sistema de Orçamentos"
   ]
  },
  {
   "cell_type": "markdown",
   "id": "912ba21f",
   "metadata": {},
   "source": [
    "## Mostrando dados para o usuário"
   ]
  },
  {
   "cell_type": "code",
   "execution_count": 9,
   "id": "4dd75e91",
   "metadata": {},
   "outputs": [
    {
     "name": "stdout",
     "output_type": "stream",
     "text": [
      "Orçamento gerado com sucesso!\n",
      "Imersão Semana do Python na Prática\n",
      "Eu vou aprender a programar em Python. Custe o que custar\n"
     ]
    }
   ],
   "source": [
    "print(\"Orçamento gerado com sucesso!\")\n",
    "print(\"Imersão Semana do Python na Prática\")\n",
    "print(\"Eu vou aprender a programar em Python. Custe o que custar\")"
   ]
  },
  {
   "cell_type": "markdown",
   "id": "420bfa7e",
   "metadata": {},
   "source": [
    "## Entrada de dados do usuário"
   ]
  },
  {
   "cell_type": "code",
   "execution_count": 11,
   "id": "2d90b720",
   "metadata": {},
   "outputs": [
    {
     "name": "stdout",
     "output_type": "stream",
     "text": [
      "Digite a descrição do projeto: Desenvolvimento Python\n",
      "Digite a quantidade de horas previstas: 250\n",
      "Digite o valor da hora trabalhada: 80\n",
      "Digite o prazo: 2 meses\n"
     ]
    },
    {
     "data": {
      "text/plain": [
       "'2 meses'"
      ]
     },
     "execution_count": 11,
     "metadata": {},
     "output_type": "execute_result"
    }
   ],
   "source": [
    "input(\"Digite a descrição do projeto: \")\n",
    "input(\"Digite a quantidade de horas previstas: \")\n",
    "input(\"Digite o valor da hora trabalhada: \")\n",
    "input(\"Digite o prazo: \")"
   ]
  },
  {
   "cell_type": "markdown",
   "id": "a465072a",
   "metadata": {},
   "source": [
    "## Armazenando dados com variáveis\n",
    "\n",
    "- tem que fazer sentido\n",
    "- não pode começar com números\n",
    "- não pode ter ESPAÇOS\n",
    "- não pode ser uma palavra reservada"
   ]
  },
  {
   "cell_type": "code",
   "execution_count": 51,
   "id": "d2695d7f",
   "metadata": {},
   "outputs": [
    {
     "name": "stdout",
     "output_type": "stream",
     "text": [
      "Digite a descrição do projeto: Desenvolvimento Python\n",
      "Digite a quantidade de horas previstas: 320\n",
      "Digite o valor da hora trabalhada: 80\n",
      "Digite o prazo: 2 meses\n"
     ]
    }
   ],
   "source": [
    "projeto = input(\"Digite a descrição do projeto: \")\n",
    "horas_previstas = input(\"Digite a quantidade de horas previstas: \")\n",
    "valor_hora = input(\"Digite o valor da hora trabalhada: \")\n",
    "prazo = input(\"Digite o prazo: \")"
   ]
  },
  {
   "cell_type": "markdown",
   "id": "c910e79c",
   "metadata": {},
   "source": [
    "## Calculando o valor total do projeto\n",
    "\n",
    "- quantidade de horas previstas * valor da hora trabalhada"
   ]
  },
  {
   "cell_type": "code",
   "execution_count": 53,
   "id": "bf8ca10e",
   "metadata": {},
   "outputs": [],
   "source": [
    "valor_total = int(horas_previstas) * int(valora_hora)"
   ]
  },
  {
   "cell_type": "markdown",
   "id": "22a11570",
   "metadata": {},
   "source": [
    "### Tipos de dados\n",
    "\n",
    "- textuais - str\n",
    "- numéricos - int"
   ]
  },
  {
   "cell_type": "markdown",
   "id": "790c4b69",
   "metadata": {},
   "source": [
    "### Conversão de tipos\n",
    "\n",
    "- para texto - str()\n",
    "- para número inteiro - int()"
   ]
  },
  {
   "cell_type": "markdown",
   "id": "c4245e57",
   "metadata": {},
   "source": [
    "## Gerando o PDF do Projeto"
   ]
  },
  {
   "cell_type": "code",
   "execution_count": 45,
   "id": "49154d1a",
   "metadata": {},
   "outputs": [
    {
     "name": "stdout",
     "output_type": "stream",
     "text": [
      "Requirement already satisfied: fpdf in d:\\anacondapython\\anaconda3\\lib\\site-packages (1.7.2)\n"
     ]
    }
   ],
   "source": [
    "!pip install fpdf"
   ]
  },
  {
   "cell_type": "code",
   "execution_count": 46,
   "id": "2e58f3bc",
   "metadata": {},
   "outputs": [],
   "source": [
    "from fpdf import FPDF"
   ]
  },
  {
   "cell_type": "code",
   "execution_count": 71,
   "id": "68449d88",
   "metadata": {},
   "outputs": [
    {
     "name": "stdout",
     "output_type": "stream",
     "text": [
      "Orçamento gerado com sucesso!\n"
     ]
    }
   ],
   "source": [
    "pdf = FPDF()\n",
    "\n",
    "pdf.add_page()\n",
    "pdf.set_font(\"Arial\")\n",
    "pdf.image(\"template.png\", x= 0, y=0)\n",
    "\n",
    "pdf.text(115, 145, projeto)\n",
    "pdf.text(115, 160, horas_previstas)\n",
    "pdf.text(115, 175, valor_hora)\n",
    "pdf.text(115, 190, prazo)\n",
    "pdf.text(115, 205, str(valor_total))\n",
    "\n",
    "\n",
    "\n",
    "pdf.output(\"Orçamento.pdf\")\n",
    "print(\"Orçamento gerado com sucesso!\")"
   ]
  },
  {
   "cell_type": "code",
   "execution_count": 54,
   "id": "c48c4a72",
   "metadata": {},
   "outputs": [
    {
     "data": {
      "text/plain": [
       "64000"
      ]
     },
     "execution_count": 54,
     "metadata": {},
     "output_type": "execute_result"
    }
   ],
   "source": [
    "valor_total"
   ]
  },
  {
   "cell_type": "code",
   "execution_count": null,
   "id": "daa07688",
   "metadata": {},
   "outputs": [],
   "source": []
  }
 ],
 "metadata": {
  "kernelspec": {
   "display_name": "Python 3 (ipykernel)",
   "language": "python",
   "name": "python3"
  },
  "language_info": {
   "codemirror_mode": {
    "name": "ipython",
    "version": 3
   },
   "file_extension": ".py",
   "mimetype": "text/x-python",
   "name": "python",
   "nbconvert_exporter": "python",
   "pygments_lexer": "ipython3",
   "version": "3.11.3"
  }
 },
 "nbformat": 4,
 "nbformat_minor": 5
}
